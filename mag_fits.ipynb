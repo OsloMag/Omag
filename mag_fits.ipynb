{
 "cells": [
  {
   "cell_type": "code",
   "execution_count": 1,
   "id": "bdfd9ec1-5f2e-478f-bafe-ecb32f684498",
   "metadata": {},
   "outputs": [],
   "source": [
    "import numpy as np\n",
    "import pandas as pd\n",
    "import processing as pro\n",
    "import plotting as plo\n",
    "import fitsUI as ui\n",
    "import warnings\n",
    "warnings.filterwarnings(\"ignore\")"
   ]
  },
  {
   "cell_type": "markdown",
   "id": "49ae641b-6bc3-4238-9b56-86cebb85ca14",
   "metadata": {},
   "source": [
    "##### Select a file to be imported and run the cell\n",
    "at present only .jr6 and .pkl files are importable"
   ]
  },
  {
   "cell_type": "code",
   "execution_count": 2,
   "id": "234b653d-df7f-4350-a1d4-c11553bf3f7d",
   "metadata": {},
   "outputs": [
    {
     "data": {
      "application/vnd.jupyter.widget-view+json": {
       "model_id": "710f37a6501c4c4787da2d1de139ef3f",
       "version_major": 2,
       "version_minor": 0
      },
      "text/plain": [
       "HBox(children=(Dropdown(description='specimen:', options=('ED5-2A', 'ED5-8A', 'ED5-1A', 'ED5-2B', 'ED5-3B', 'E…"
      ]
     },
     "metadata": {},
     "output_type": "display_data"
    },
    {
     "data": {
      "application/vnd.jupyter.widget-view+json": {
       "model_id": "270b40d87cb14cc1bbb53c40c8ffbef0",
       "version_major": 2,
       "version_minor": 0
      },
      "text/plain": [
       "Output()"
      ]
     },
     "metadata": {},
     "output_type": "display_data"
    },
    {
     "data": {
      "application/vnd.jupyter.widget-view+json": {
       "model_id": "31a0153ac5b242faaef31525f5e7c514",
       "version_major": 2,
       "version_minor": 0
      },
      "text/plain": [
       "Output()"
      ]
     },
     "metadata": {},
     "output_type": "display_data"
    }
   ],
   "source": [
    "filename = 'ED05.jr6' #'ED05.jr6'\n",
    "\n",
    "instance = ui.FitsManager(filename)"
   ]
  },
  {
   "cell_type": "markdown",
   "id": "e0d333b5-fbaf-4b07-825b-3da104325348",
   "metadata": {},
   "source": [
    "##### Interactive 3D Zijderveld plot. \n",
    "Use sparingly as it will cause the notebook to lag (and clear by commenting out and re-running the cell)"
   ]
  },
  {
   "cell_type": "code",
   "execution_count": 3,
   "id": "6c584103-2d35-4932-999b-2af8ef6ae7b8",
   "metadata": {},
   "outputs": [
    {
     "data": {
      "text/html": [
       "<iframe\n",
       "    scrolling=\"no\"\n",
       "    width=\"1220px\"\n",
       "    height=\"820\"\n",
       "    src=\"iframe_figures/figure_3.html\"\n",
       "    frameborder=\"0\"\n",
       "    allowfullscreen\n",
       "></iframe>\n"
      ]
     },
     "metadata": {},
     "output_type": "display_data"
    }
   ],
   "source": [
    "i2 = instance.interface\n",
    "coordinates, rspec, fspec, lines, planes = i2.coordinate_system.get_coordinates(), i2.specimen.get_raw_specimen(), i2.specimen.get_filtered_specimen(), i2.get_lines(), i2.get_planes()\n",
    "plo.interactive_zij_plt(coordinates, rspec, fspec, lines, planes, show_lines='y', show_planes='y')"
   ]
  },
  {
   "cell_type": "code",
   "execution_count": null,
   "id": "11710af1-5ba0-4545-8348-61a282400a11",
   "metadata": {},
   "outputs": [],
   "source": []
  }
 ],
 "metadata": {
  "kernelspec": {
   "display_name": "Python 3 (ipykernel)",
   "language": "python",
   "name": "python3"
  },
  "language_info": {
   "codemirror_mode": {
    "name": "ipython",
    "version": 3
   },
   "file_extension": ".py",
   "mimetype": "text/x-python",
   "name": "python",
   "nbconvert_exporter": "python",
   "pygments_lexer": "ipython3",
   "version": "3.9.18"
  }
 },
 "nbformat": 4,
 "nbformat_minor": 5
}
