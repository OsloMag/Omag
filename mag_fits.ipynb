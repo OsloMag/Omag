{
 "cells": [
  {
   "cell_type": "code",
   "execution_count": 1,
   "id": "bdfd9ec1-5f2e-478f-bafe-ecb32f684498",
   "metadata": {},
   "outputs": [],
   "source": [
    "import numpy as np\n",
    "import pandas as pd\n",
    "import processing as pro\n",
    "import plotting as plo\n",
    "import user_interface as ui"
   ]
  },
  {
   "cell_type": "markdown",
   "id": "49ae641b-6bc3-4238-9b56-86cebb85ca14",
   "metadata": {},
   "source": [
    "##### Select a file to be imported and run the cell\n",
    "at present only .jr6 and .pkl files are importable"
   ]
  },
  {
   "cell_type": "code",
   "execution_count": 2,
   "id": "234b653d-df7f-4350-a1d4-c11553bf3f7d",
   "metadata": {},
   "outputs": [
    {
     "data": {
      "application/vnd.jupyter.widget-view+json": {
       "model_id": "db3e540e49c146878913399b98696eed",
       "version_major": 2,
       "version_minor": 0
      },
      "text/plain": [
       "HBox(children=(Dropdown(description='specimen:', options=('ED5-2A', 'ED5-8A', 'ED5-1A', 'ED5-2B', 'ED5-3B', 'E…"
      ]
     },
     "metadata": {},
     "output_type": "display_data"
    },
    {
     "data": {
      "application/vnd.jupyter.widget-view+json": {
       "model_id": "ae6aed175ae44b379ba7731e3191770b",
       "version_major": 2,
       "version_minor": 0
      },
      "text/plain": [
       "Output()"
      ]
     },
     "metadata": {},
     "output_type": "display_data"
    },
    {
     "data": {
      "application/vnd.jupyter.widget-view+json": {
       "model_id": "0ee09c953cf14ac5acac805d96224ab0",
       "version_major": 2,
       "version_minor": 0
      },
      "text/plain": [
       "HBox(children=(Button(description='toggle', layout=Layout(width='80px'), style=ButtonStyle()), Button(descript…"
      ]
     },
     "metadata": {},
     "output_type": "display_data"
    },
    {
     "data": {
      "application/vnd.jupyter.widget-view+json": {
       "model_id": "f521fbf645ec4dc18f372d35c25d0fd9",
       "version_major": 2,
       "version_minor": 0
      },
      "text/plain": [
       "HBox()"
      ]
     },
     "metadata": {},
     "output_type": "display_data"
    },
    {
     "data": {
      "application/vnd.jupyter.widget-view+json": {
       "model_id": "3f94f0fa1aef465ca647d6b05abe83ad",
       "version_major": 2,
       "version_minor": 0
      },
      "text/plain": [
       "HBox(children=(Button(description='toggle', layout=Layout(width='80px'), style=ButtonStyle()), Button(descript…"
      ]
     },
     "metadata": {},
     "output_type": "display_data"
    },
    {
     "data": {
      "application/vnd.jupyter.widget-view+json": {
       "model_id": "598d8cd8194147f586c031b440222986",
       "version_major": 2,
       "version_minor": 0
      },
      "text/plain": [
       "VBox(layout=Layout(display='none'))"
      ]
     },
     "metadata": {},
     "output_type": "display_data"
    },
    {
     "data": {
      "application/vnd.jupyter.widget-view+json": {
       "model_id": "0305aa14c18348ed85a6db53841b20f9",
       "version_major": 2,
       "version_minor": 0
      },
      "text/plain": [
       "HBox(children=(Button(description='toggle', layout=Layout(width='80px'), style=ButtonStyle()), Button(descript…"
      ]
     },
     "metadata": {},
     "output_type": "display_data"
    },
    {
     "data": {
      "application/vnd.jupyter.widget-view+json": {
       "model_id": "b51263387bd44b7abc8f1eab35aa25b6",
       "version_major": 2,
       "version_minor": 0
      },
      "text/plain": [
       "VBox(layout=Layout(display='none'))"
      ]
     },
     "metadata": {},
     "output_type": "display_data"
    },
    {
     "data": {
      "application/vnd.jupyter.widget-view+json": {
       "model_id": "ce3ed759d0f9477ab83827ce98044005",
       "version_major": 2,
       "version_minor": 0
      },
      "text/plain": [
       "Output()"
      ]
     },
     "metadata": {},
     "output_type": "display_data"
    },
    {
     "data": {
      "application/vnd.jupyter.widget-view+json": {
       "model_id": "e6b80486500147f7bedd108c11a6902e",
       "version_major": 2,
       "version_minor": 0
      },
      "text/plain": [
       "Output()"
      ]
     },
     "metadata": {},
     "output_type": "display_data"
    },
    {
     "data": {
      "application/vnd.jupyter.widget-view+json": {
       "model_id": "b7e81b34612a499aaee7872d521dda31",
       "version_major": 2,
       "version_minor": 0
      },
      "text/plain": [
       "HBox(children=(Button(description='toggle', layout=Layout(width='80px'), style=ButtonStyle()), Button(descript…"
      ]
     },
     "metadata": {},
     "output_type": "display_data"
    },
    {
     "data": {
      "application/vnd.jupyter.widget-view+json": {
       "model_id": "09863d5fc687436c92a9404f34340a45",
       "version_major": 2,
       "version_minor": 0
      },
      "text/plain": [
       "Output()"
      ]
     },
     "metadata": {},
     "output_type": "display_data"
    },
    {
     "data": {
      "application/vnd.jupyter.widget-view+json": {
       "model_id": "b7c602593252457cb04ac469cc863ca9",
       "version_major": 2,
       "version_minor": 0
      },
      "text/plain": [
       "HBox(children=(Button(description='toggle', layout=Layout(width='80px'), style=ButtonStyle()), Button(descript…"
      ]
     },
     "metadata": {},
     "output_type": "display_data"
    },
    {
     "data": {
      "application/vnd.jupyter.widget-view+json": {
       "model_id": "59a20d3f145844f399ed5aae70b3e860",
       "version_major": 2,
       "version_minor": 0
      },
      "text/plain": [
       "Output()"
      ]
     },
     "metadata": {},
     "output_type": "display_data"
    }
   ],
   "source": [
    "filename = 'ED05.jr6' #'ED05.jr6'\n",
    "\n",
    "instance = ui.FitsManager(filename)"
   ]
  },
  {
   "cell_type": "markdown",
   "id": "e0d333b5-fbaf-4b07-825b-3da104325348",
   "metadata": {},
   "source": [
    "##### Interactive 3D Zijderveld plot. \n",
    "Use sparingly as it will cause the notebook to lag (and clear by commenting out and re-running the cell)"
   ]
  },
  {
   "cell_type": "code",
   "execution_count": 4,
   "id": "6c584103-2d35-4932-999b-2af8ef6ae7b8",
   "metadata": {},
   "outputs": [],
   "source": [
    "i2 = instance.interface\n",
    "coordinates, rspec, fspec, lines, planes = i2.coordinate_system.get_coordinates(), i2.specimen.get_raw_specimen(), i2.specimen.get_filtered_specimen(), i2.get_lines(), i2.get_planes()\n",
    "#plo.interactive_zij_plt(coordinates, rspec, fspec, lines, planes, show_lines='y', show_planes='y')"
   ]
  },
  {
   "cell_type": "code",
   "execution_count": null,
   "id": "11710af1-5ba0-4545-8348-61a282400a11",
   "metadata": {},
   "outputs": [],
   "source": []
  }
 ],
 "metadata": {
  "kernelspec": {
   "display_name": "Python 3 (ipykernel)",
   "language": "python",
   "name": "python3"
  },
  "language_info": {
   "codemirror_mode": {
    "name": "ipython",
    "version": 3
   },
   "file_extension": ".py",
   "mimetype": "text/x-python",
   "name": "python",
   "nbconvert_exporter": "python",
   "pygments_lexer": "ipython3",
   "version": "3.9.18"
  }
 },
 "nbformat": 4,
 "nbformat_minor": 5
}
