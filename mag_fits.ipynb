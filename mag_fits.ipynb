{
 "cells": [
  {
   "cell_type": "code",
   "execution_count": 1,
   "id": "bdfd9ec1-5f2e-478f-bafe-ecb32f684498",
   "metadata": {},
   "outputs": [],
   "source": [
    "import numpy as np\n",
    "import pandas as pd\n",
    "import processing as pro\n",
    "import plotting as plo\n",
    "import user_interface as ui"
   ]
  },
  {
   "cell_type": "markdown",
   "id": "49ae641b-6bc3-4238-9b56-86cebb85ca14",
   "metadata": {},
   "source": [
    "##### Select a file to be imported and run the cell\n",
    "at present only .jr6 and .pkl files are importable"
   ]
  },
  {
   "cell_type": "code",
   "execution_count": 2,
   "id": "234b653d-df7f-4350-a1d4-c11553bf3f7d",
   "metadata": {},
   "outputs": [
    {
     "data": {
      "application/vnd.jupyter.widget-view+json": {
       "model_id": "d90aa466a7314b5285149ea46fd510b5",
       "version_major": 2,
       "version_minor": 0
      },
      "text/plain": [
       "HBox(children=(Dropdown(description='specimen:', options=('ED5-2A', 'ED5-8A', 'ED5-1A', 'ED5-2B', 'ED5-3B', 'E…"
      ]
     },
     "metadata": {},
     "output_type": "display_data"
    },
    {
     "data": {
      "application/vnd.jupyter.widget-view+json": {
       "model_id": "6b7887cec5fd4b5fa361fa744c09274e",
       "version_major": 2,
       "version_minor": 0
      },
      "text/plain": [
       "Output()"
      ]
     },
     "metadata": {},
     "output_type": "display_data"
    }
   ],
   "source": [
    "filename = 'testing.pkl' #'ED05.jr6'\n",
    "\n",
    "instance = ui.Manager(filename)"
   ]
  },
  {
   "cell_type": "markdown",
   "id": "e0d333b5-fbaf-4b07-825b-3da104325348",
   "metadata": {},
   "source": [
    "##### Interactive 3D Zijderveld plot. \n",
    "Use sparingly as it will cause the notebook to lag (and clear by commenting out and re-running the cell)"
   ]
  },
  {
   "cell_type": "code",
   "execution_count": null,
   "id": "6c584103-2d35-4932-999b-2af8ef6ae7b8",
   "metadata": {},
   "outputs": [],
   "source": [
    "i2 = instance.interface\n",
    "coordinates, rspec, fspec, lines, planes = i2.coordinate_system.get_coordinates(), i2.specimen.get_raw_specimen(), i2.specimen.get_filtered_specimen(), i2.get_lines(), i2.get_planes()\n",
    "#plo.interactive_zij_plt(coordinates, rspec, fspec, lines, planes, show_lines='y', show_planes='y')"
   ]
  }
 ],
 "metadata": {
  "kernelspec": {
   "display_name": "Python 3 (ipykernel)",
   "language": "python",
   "name": "python3"
  },
  "language_info": {
   "codemirror_mode": {
    "name": "ipython",
    "version": 3
   },
   "file_extension": ".py",
   "mimetype": "text/x-python",
   "name": "python",
   "nbconvert_exporter": "python",
   "pygments_lexer": "ipython3",
   "version": "3.9.18"
  }
 },
 "nbformat": 4,
 "nbformat_minor": 5
}
