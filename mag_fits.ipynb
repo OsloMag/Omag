{
 "cells": [
  {
   "cell_type": "code",
   "execution_count": 1,
   "id": "bdfd9ec1-5f2e-478f-bafe-ecb32f684498",
   "metadata": {},
   "outputs": [],
   "source": [
    "import numpy as np\n",
    "import pandas as pd\n",
    "import processing as pro\n",
    "import plotting as plo\n",
    "import user_interface as ui\n",
    "import warnings\n",
    "warnings.filterwarnings(\"ignore\")"
   ]
  },
  {
   "cell_type": "markdown",
   "id": "49ae641b-6bc3-4238-9b56-86cebb85ca14",
   "metadata": {},
   "source": [
    "##### Select a file to be imported and run the cell\n",
    "at present only .jr6 and .pkl files are importable"
   ]
  },
  {
   "cell_type": "code",
   "execution_count": 2,
   "id": "234b653d-df7f-4350-a1d4-c11553bf3f7d",
   "metadata": {},
   "outputs": [
    {
     "data": {
      "application/vnd.jupyter.widget-view+json": {
       "model_id": "a125eb950f0d48bf86ecb9e4fe625a48",
       "version_major": 2,
       "version_minor": 0
      },
      "text/plain": [
       "HBox(children=(Dropdown(description='specimen:', options=('ED5-2A', 'ED5-8A', 'ED5-1A', 'ED5-2B', 'ED5-3B', 'E…"
      ]
     },
     "metadata": {},
     "output_type": "display_data"
    },
    {
     "data": {
      "application/vnd.jupyter.widget-view+json": {
       "model_id": "6e1bda67906a406aa73881610226d29a",
       "version_major": 2,
       "version_minor": 0
      },
      "text/plain": [
       "Output()"
      ]
     },
     "metadata": {},
     "output_type": "display_data"
    },
    {
     "data": {
      "application/vnd.jupyter.widget-view+json": {
       "model_id": "43f412db14114cd79636862818287c77",
       "version_major": 2,
       "version_minor": 0
      },
      "text/plain": [
       "HBox(children=(Button(description='toggle', layout=Layout(width='80px'), style=ButtonStyle()), Button(descript…"
      ]
     },
     "metadata": {},
     "output_type": "display_data"
    },
    {
     "data": {
      "application/vnd.jupyter.widget-view+json": {
       "model_id": "9e0098126d184cf48f79410dad647467",
       "version_major": 2,
       "version_minor": 0
      },
      "text/plain": [
       "HBox()"
      ]
     },
     "metadata": {},
     "output_type": "display_data"
    },
    {
     "data": {
      "application/vnd.jupyter.widget-view+json": {
       "model_id": "8ac98ad1d10d4a769bc52f619ef56dc7",
       "version_major": 2,
       "version_minor": 0
      },
      "text/plain": [
       "HBox(children=(Button(description='toggle', layout=Layout(width='80px'), style=ButtonStyle()), Button(descript…"
      ]
     },
     "metadata": {},
     "output_type": "display_data"
    },
    {
     "data": {
      "application/vnd.jupyter.widget-view+json": {
       "model_id": "a95337424bc841cf8e0788fe1573eb9e",
       "version_major": 2,
       "version_minor": 0
      },
      "text/plain": [
       "VBox(layout=Layout(display='none'))"
      ]
     },
     "metadata": {},
     "output_type": "display_data"
    },
    {
     "data": {
      "application/vnd.jupyter.widget-view+json": {
       "model_id": "0ba90422c9d6474d9e7b230e9e188a0a",
       "version_major": 2,
       "version_minor": 0
      },
      "text/plain": [
       "HBox(children=(Button(description='toggle', layout=Layout(width='80px'), style=ButtonStyle()), Button(descript…"
      ]
     },
     "metadata": {},
     "output_type": "display_data"
    },
    {
     "data": {
      "application/vnd.jupyter.widget-view+json": {
       "model_id": "eb8acbb78e234afeb250c4c48a8c4093",
       "version_major": 2,
       "version_minor": 0
      },
      "text/plain": [
       "VBox(layout=Layout(display='none'))"
      ]
     },
     "metadata": {},
     "output_type": "display_data"
    },
    {
     "data": {
      "application/vnd.jupyter.widget-view+json": {
       "model_id": "bec80aaaffaa4aa197664636f7f32c3f",
       "version_major": 2,
       "version_minor": 0
      },
      "text/plain": [
       "Output()"
      ]
     },
     "metadata": {},
     "output_type": "display_data"
    },
    {
     "data": {
      "application/vnd.jupyter.widget-view+json": {
       "model_id": "fb228ec602c84f3d9c79fd22f432b902",
       "version_major": 2,
       "version_minor": 0
      },
      "text/plain": [
       "Output()"
      ]
     },
     "metadata": {},
     "output_type": "display_data"
    },
    {
     "data": {
      "application/vnd.jupyter.widget-view+json": {
       "model_id": "94724a2baa0e4d4283948dae5ffb3d82",
       "version_major": 2,
       "version_minor": 0
      },
      "text/plain": [
       "HBox(children=(Button(description='toggle', layout=Layout(width='80px'), style=ButtonStyle()), Button(descript…"
      ]
     },
     "metadata": {},
     "output_type": "display_data"
    },
    {
     "data": {
      "application/vnd.jupyter.widget-view+json": {
       "model_id": "4264c96ccf5a47419f0a23c0bc1075c3",
       "version_major": 2,
       "version_minor": 0
      },
      "text/plain": [
       "Output()"
      ]
     },
     "metadata": {},
     "output_type": "display_data"
    },
    {
     "data": {
      "application/vnd.jupyter.widget-view+json": {
       "model_id": "4d238db1fd0b4af68c4191729cbbe507",
       "version_major": 2,
       "version_minor": 0
      },
      "text/plain": [
       "HBox(children=(Button(description='toggle', layout=Layout(width='80px'), style=ButtonStyle()), Button(descript…"
      ]
     },
     "metadata": {},
     "output_type": "display_data"
    },
    {
     "data": {
      "application/vnd.jupyter.widget-view+json": {
       "model_id": "4b2b1b5d2a384abfb232bd7acb8dc026",
       "version_major": 2,
       "version_minor": 0
      },
      "text/plain": [
       "Output()"
      ]
     },
     "metadata": {},
     "output_type": "display_data"
    }
   ],
   "source": [
    "filename = 'ED05.jr6' #'ED05.jr6'\n",
    "\n",
    "instance = ui.FitsManager(filename)"
   ]
  },
  {
   "cell_type": "markdown",
   "id": "e0d333b5-fbaf-4b07-825b-3da104325348",
   "metadata": {},
   "source": [
    "##### Interactive 3D Zijderveld plot. \n",
    "Use sparingly as it will cause the notebook to lag (and clear by commenting out and re-running the cell)"
   ]
  },
  {
   "cell_type": "code",
   "execution_count": 4,
   "id": "6c584103-2d35-4932-999b-2af8ef6ae7b8",
   "metadata": {},
   "outputs": [],
   "source": [
    "i2 = instance.interface\n",
    "coordinates, rspec, fspec, lines, planes = i2.coordinate_system.get_coordinates(), i2.specimen.get_raw_specimen(), i2.specimen.get_filtered_specimen(), i2.get_lines(), i2.get_planes()\n",
    "#plo.interactive_zij_plt(coordinates, rspec, fspec, lines, planes, show_lines='y', show_planes='y')"
   ]
  },
  {
   "cell_type": "code",
   "execution_count": null,
   "id": "11710af1-5ba0-4545-8348-61a282400a11",
   "metadata": {},
   "outputs": [],
   "source": []
  }
 ],
 "metadata": {
  "kernelspec": {
   "display_name": "Python 3 (ipykernel)",
   "language": "python",
   "name": "python3"
  },
  "language_info": {
   "codemirror_mode": {
    "name": "ipython",
    "version": 3
   },
   "file_extension": ".py",
   "mimetype": "text/x-python",
   "name": "python",
   "nbconvert_exporter": "python",
   "pygments_lexer": "ipython3",
   "version": "3.9.18"
  }
 },
 "nbformat": 4,
 "nbformat_minor": 5
}
